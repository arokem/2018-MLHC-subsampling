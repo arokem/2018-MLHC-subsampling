{
 "cells": [
  {
   "cell_type": "code",
   "execution_count": 1,
   "metadata": {},
   "outputs": [],
   "source": [
    "import numpy as np\n",
    "import matplotlib.pyplot as plt\n",
    "%matplotlib inline"
   ]
  },
  {
   "cell_type": "code",
   "execution_count": 5,
   "metadata": {},
   "outputs": [],
   "source": [
    "data_proportion = [1, 2, 4, 8, 16, 32, 64, 100]"
   ]
  },
  {
   "cell_type": "code",
   "execution_count": 2,
   "metadata": {},
   "outputs": [],
   "source": [
    "cifar_subsample = np.array([[0.1004, 0.2204, 0.1344, 0.2954, 0.3978, 0.505, 0.6452, 0.7278],\n",
    "                            [0.128, 0.1616, 0.1936, 0.2574, 0.3714, 0.3738, 0.5708, 0.7348],\n",
    "                            [0.104, 0.2186, 0.2102, 0.3484, 0.3416, 0.3038, 0.527, 0.66],\n",
    "                            [0.0974, 0.1874, 0.1646, 0.1866, 0.3068, 0.3154, 0.5074, 0.5946],\n",
    "                            [0.1468, 0.099, 0.1316, 0.1934, 0.2356, 0.2762, 0.345, 0.4644],\n",
    "                            [0.1112, 0.1246, 0.1046, 0.1302, 0.1092, 0.1478, 0.191, 0.188],\n",
    "                            [0.0942, 0.0798, 0.0942, 0.101, 0.0948, 0.1046, 0.1084, 0.104]])"
   ]
  },
  {
   "cell_type": "code",
   "execution_count": 19,
   "metadata": {},
   "outputs": [
    {
     "name": "stderr",
     "output_type": "stream",
     "text": [
      "/Users/arokem/anaconda3/lib/python3.5/site-packages/matplotlib/axes/_base.py:2966: UserWarning: Attempted to set non-positive xlimits for log-scale axis; invalid limits will be ignored.\n",
      "  'Attempted to set non-positive xlimits for log-scale axis; '\n"
     ]
    },
    {
     "data": {
      "image/png": "[encoded data removed]",
      "text/plain": [
       "<matplotlib.figure.Figure at 0x10a1efb70>"
      ]
     },
     "metadata": {},
     "output_type": "display_data"
    }
   ],
   "source": [
    "fig, ax = plt.subplots(1)\n",
    "plt.plot(data_proportion[2:], cifar_subsample.T[2:], 'o')\n",
    "ax.semilogx(2)\n",
    "ax.set_xticks(data_proportion[2:])\n",
    "ax.set_xticklabels(data_proportion[2:])\n",
    "ax.set_ylim([0, 1])\n",
    "ax.set_xlim([0, 104])\n",
    "ax.set_xlim([0, 100])\n",
    "ax.minorticks_off()\n",
    "ax.grid(\"on\")\n"
   ]
  },
  {
   "cell_type": "code",
   "execution_count": null,
   "metadata": {},
   "outputs": [],
   "source": []
  }
 ],
 "metadata": {
  "kernelspec": {
   "display_name": "Python 3",
   "language": "python",
   "name": "python3"
  },
  "language_info": {
   "codemirror_mode": {
    "name": "ipython",
    "version": 3
   },
   "file_extension": ".py",
   "mimetype": "text/x-python",
   "name": "python",
   "nbconvert_exporter": "python",
   "pygments_lexer": "ipython3",
   "version": "3.5.4"
  }
 },
 "nbformat": 4,
 "nbformat_minor": 2
}
