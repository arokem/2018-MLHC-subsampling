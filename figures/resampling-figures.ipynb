{
 "cells": [
  {
   "cell_type": "code",
   "execution_count": 1,
   "metadata": {},
   "outputs": [],
   "source": [
    "import numpy as np\n",
    "import matplotlib\n",
    "import matplotlib.pyplot as plt\n",
    "%matplotlib inline"
   ]
  },
  {
   "cell_type": "code",
   "execution_count": 2,
   "metadata": {},
   "outputs": [],
   "source": [
    "import pandas as pd"
   ]
  },
  {
   "cell_type": "code",
   "execution_count": 3,
   "metadata": {},
   "outputs": [],
   "source": [
    "df = pd.read_csv('subsampling.tsv', sep='\\t')"
   ]
  },
  {
   "cell_type": "code",
   "execution_count": 4,
   "metadata": {},
   "outputs": [
    {
     "data": {
      "text/html": [
       "<div>\n",
       "<style scoped>\n",
       "    .dataframe tbody tr th:only-of-type {\n",
       "        vertical-align: middle;\n",
       "    }\n",
       "\n",
       "    .dataframe tbody tr th {\n",
       "        vertical-align: top;\n",
       "    }\n",
       "\n",
       "    .dataframe thead th {\n",
       "        text-align: right;\n",
       "    }\n",
       "</style>\n",
       "<table border=\"1\" class=\"dataframe\">\n",
       "  <thead>\n",
       "    <tr style=\"text-align: right;\">\n",
       "      <th></th>\n",
       "      <th>group</th>\n",
       "      <th>subset</th>\n",
       "      <th>valid</th>\n",
       "      <th>maxacc</th>\n",
       "      <th>diff</th>\n",
       "      <th>expid</th>\n",
       "    </tr>\n",
       "  </thead>\n",
       "  <tbody>\n",
       "    <tr>\n",
       "      <th>0</th>\n",
       "      <td>tv</td>\n",
       "      <td>460</td>\n",
       "      <td>0.816105</td>\n",
       "      <td>0.867246</td>\n",
       "      <td>0.051141</td>\n",
       "      <td>463</td>\n",
       "    </tr>\n",
       "    <tr>\n",
       "      <th>1</th>\n",
       "      <td>tv</td>\n",
       "      <td>460</td>\n",
       "      <td>0.831579</td>\n",
       "      <td>0.846800</td>\n",
       "      <td>0.015221</td>\n",
       "      <td>188</td>\n",
       "    </tr>\n",
       "    <tr>\n",
       "      <th>2</th>\n",
       "      <td>tv</td>\n",
       "      <td>57</td>\n",
       "      <td>0.722105</td>\n",
       "      <td>0.711667</td>\n",
       "      <td>-0.010438</td>\n",
       "      <td>277</td>\n",
       "    </tr>\n",
       "    <tr>\n",
       "      <th>3</th>\n",
       "      <td>tv</td>\n",
       "      <td>921</td>\n",
       "      <td>0.828737</td>\n",
       "      <td>0.841379</td>\n",
       "      <td>0.012642</td>\n",
       "      <td>846</td>\n",
       "    </tr>\n",
       "    <tr>\n",
       "      <th>4</th>\n",
       "      <td>tv</td>\n",
       "      <td>1440</td>\n",
       "      <td>0.848000</td>\n",
       "      <td>0.865104</td>\n",
       "      <td>0.017104</td>\n",
       "      <td>612</td>\n",
       "    </tr>\n",
       "  </tbody>\n",
       "</table>\n",
       "</div>"
      ],
      "text/plain": [
       "  group  subset     valid    maxacc      diff  expid\n",
       "0    tv     460  0.816105  0.867246  0.051141    463\n",
       "1    tv     460  0.831579  0.846800  0.015221    188\n",
       "2    tv      57  0.722105  0.711667 -0.010438    277\n",
       "3    tv     921  0.828737  0.841379  0.012642    846\n",
       "4    tv    1440  0.848000  0.865104  0.017104    612"
      ]
     },
     "execution_count": 4,
     "metadata": {},
     "output_type": "execute_result"
    }
   ],
   "source": [
    "df.head()"
   ]
  },
  {
   "cell_type": "code",
   "execution_count": 5,
   "metadata": {},
   "outputs": [],
   "source": [
    "df[\"proportion\"] = round(df[\"subset\"] / np.max(df[\"subset\"]) * 100).astype(int)"
   ]
  },
  {
   "cell_type": "code",
   "execution_count": 6,
   "metadata": {},
   "outputs": [
    {
     "data": {
      "text/plain": [
       "array([ 32,   4,  64, 100,   8,  16])"
      ]
     },
     "execution_count": 6,
     "metadata": {},
     "output_type": "execute_result"
    }
   ],
   "source": [
    "df[\"proportion\"].unique()"
   ]
  },
  {
   "cell_type": "code",
   "execution_count": 7,
   "metadata": {},
   "outputs": [],
   "source": [
    "gb = df.groupby(\"subset\")"
   ]
  },
  {
   "cell_type": "code",
   "execution_count": 8,
   "metadata": {},
   "outputs": [],
   "source": [
    "max_acc = np.mean(df[df[\"proportion\"] == 100][\"valid\"])\n",
    "min_acc = np.mean(df[df[\"proportion\"] == 4][\"valid\"])"
   ]
  },
  {
   "cell_type": "code",
   "execution_count": 9,
   "metadata": {},
   "outputs": [
    {
     "data": {
      "text/plain": [
       "0.7371388181818183"
      ]
     },
     "execution_count": 9,
     "metadata": {},
     "output_type": "execute_result"
    }
   ],
   "source": [
    "min_acc"
   ]
  },
  {
   "cell_type": "code",
   "execution_count": 41,
   "metadata": {},
   "outputs": [],
   "source": [
    "def logistic(x, k, x0):\n",
    "    return (max_acc / (1 + np.exp(-k * (x - x0))) )\n",
    "\n",
    "def loglinear(x, a, b):\n",
    "    return a * np.log2(x) + b "
   ]
  },
  {
   "cell_type": "code",
   "execution_count": 46,
   "metadata": {},
   "outputs": [
    {
     "data": {
      "text/plain": [
       "[]"
      ]
     },
     "execution_count": 46,
     "metadata": {},
     "output_type": "execute_result"
    },
    {
     "data": {
      "image/png": "[encoded data removed]",
      "text/plain": [
       "<matplotlib.figure.Figure at 0x111e13e80>"
      ]
     },
     "metadata": {},
     "output_type": "display_data"
    }
   ],
   "source": [
    "fig, ax = plt.subplots(1)\n",
    "ax.plot(loglinear(np.linspace(1, 100), 1, 1))\n",
    "ax.semilogx(basex=2)"
   ]
  },
  {
   "cell_type": "code",
   "execution_count": 11,
   "metadata": {},
   "outputs": [],
   "source": [
    "import scipy.optimize as opt"
   ]
  },
  {
   "cell_type": "code",
   "execution_count": 54,
   "metadata": {},
   "outputs": [
    {
     "name": "stderr",
     "output_type": "stream",
     "text": [
      "/Users/arokem/anaconda3/lib/python3.5/site-packages/ipykernel_launcher.py:2: RuntimeWarning: overflow encountered in exp\n",
      "  \n"
     ]
    }
   ],
   "source": [
    "params_logistic, cov_logistic = opt.curve_fit(logistic, df[\"proportion\"], df[\"valid\"], p0=[1, 1])\n",
    "params_loglinear, cov_loglinear = opt.curve_fit(loglinear, df[\"proportion\"], df[\"valid\"], p0=[1, 1])\n"
   ]
  },
  {
   "cell_type": "code",
   "execution_count": 55,
   "metadata": {},
   "outputs": [],
   "source": [
    "df[\"model\"] = logistic(df[\"proportion\"], *params_loglinear)"
   ]
  },
  {
   "cell_type": "code",
   "execution_count": 56,
   "metadata": {},
   "outputs": [],
   "source": [
    "df_model = pd.DataFrame()"
   ]
  },
  {
   "cell_type": "code",
   "execution_count": 57,
   "metadata": {},
   "outputs": [],
   "source": [
    "df_means = df.groupby(['proportion']).mean()\n",
    "df_stds = df.groupby(['proportion']).std()"
   ]
  },
  {
   "cell_type": "code",
   "execution_count": 58,
   "metadata": {},
   "outputs": [
    {
     "data": {
      "text/html": [
       "<div>\n",
       "<style scoped>\n",
       "    .dataframe tbody tr th:only-of-type {\n",
       "        vertical-align: middle;\n",
       "    }\n",
       "\n",
       "    .dataframe tbody tr th {\n",
       "        vertical-align: top;\n",
       "    }\n",
       "\n",
       "    .dataframe thead th {\n",
       "        text-align: right;\n",
       "    }\n",
       "</style>\n",
       "<table border=\"1\" class=\"dataframe\">\n",
       "  <thead>\n",
       "    <tr style=\"text-align: right;\">\n",
       "      <th></th>\n",
       "      <th>subset</th>\n",
       "      <th>valid</th>\n",
       "      <th>maxacc</th>\n",
       "      <th>diff</th>\n",
       "      <th>expid</th>\n",
       "      <th>model</th>\n",
       "    </tr>\n",
       "    <tr>\n",
       "      <th>proportion</th>\n",
       "      <th></th>\n",
       "      <th></th>\n",
       "      <th></th>\n",
       "      <th></th>\n",
       "      <th></th>\n",
       "      <th></th>\n",
       "    </tr>\n",
       "  </thead>\n",
       "  <tbody>\n",
       "    <tr>\n",
       "      <th>4</th>\n",
       "      <td>57.0</td>\n",
       "      <td>0.737139</td>\n",
       "      <td>0.739029</td>\n",
       "      <td>0.001890</td>\n",
       "      <td>505.363636</td>\n",
       "      <td>0.447526</td>\n",
       "    </tr>\n",
       "    <tr>\n",
       "      <th>8</th>\n",
       "      <td>115.0</td>\n",
       "      <td>0.769340</td>\n",
       "      <td>0.820079</td>\n",
       "      <td>0.050740</td>\n",
       "      <td>505.363636</td>\n",
       "      <td>0.469243</td>\n",
       "    </tr>\n",
       "    <tr>\n",
       "      <th>16</th>\n",
       "      <td>230.0</td>\n",
       "      <td>0.812287</td>\n",
       "      <td>0.821283</td>\n",
       "      <td>0.008996</td>\n",
       "      <td>505.363636</td>\n",
       "      <td>0.511962</td>\n",
       "    </tr>\n",
       "    <tr>\n",
       "      <th>32</th>\n",
       "      <td>460.0</td>\n",
       "      <td>0.828191</td>\n",
       "      <td>0.833273</td>\n",
       "      <td>0.005082</td>\n",
       "      <td>505.363636</td>\n",
       "      <td>0.591816</td>\n",
       "    </tr>\n",
       "    <tr>\n",
       "      <th>64</th>\n",
       "      <td>921.0</td>\n",
       "      <td>0.841053</td>\n",
       "      <td>0.849905</td>\n",
       "      <td>0.008852</td>\n",
       "      <td>505.363636</td>\n",
       "      <td>0.715681</td>\n",
       "    </tr>\n",
       "    <tr>\n",
       "      <th>100</th>\n",
       "      <td>1440.0</td>\n",
       "      <td>0.859014</td>\n",
       "      <td>0.849922</td>\n",
       "      <td>-0.009092</td>\n",
       "      <td>505.363636</td>\n",
       "      <td>0.795195</td>\n",
       "    </tr>\n",
       "  </tbody>\n",
       "</table>\n",
       "</div>"
      ],
      "text/plain": [
       "            subset     valid    maxacc      diff       expid     model\n",
       "proportion                                                            \n",
       "4             57.0  0.737139  0.739029  0.001890  505.363636  0.447526\n",
       "8            115.0  0.769340  0.820079  0.050740  505.363636  0.469243\n",
       "16           230.0  0.812287  0.821283  0.008996  505.363636  0.511962\n",
       "32           460.0  0.828191  0.833273  0.005082  505.363636  0.591816\n",
       "64           921.0  0.841053  0.849905  0.008852  505.363636  0.715681\n",
       "100         1440.0  0.859014  0.849922 -0.009092  505.363636  0.795195"
      ]
     },
     "execution_count": 58,
     "metadata": {},
     "output_type": "execute_result"
    }
   ],
   "source": [
    "df_means"
   ]
  },
  {
   "cell_type": "code",
   "execution_count": 59,
   "metadata": {},
   "outputs": [],
   "source": [
    "df_means = df.groupby(['proportion']).mean()"
   ]
  },
  {
   "cell_type": "code",
   "execution_count": 60,
   "metadata": {},
   "outputs": [],
   "source": [
    "p_target =  max_acc * 0.95"
   ]
  },
  {
   "cell_type": "code",
   "execution_count": 61,
   "metadata": {},
   "outputs": [
    {
     "data": {
      "text/plain": [
       "0.8590144545454546"
      ]
     },
     "execution_count": 61,
     "metadata": {},
     "output_type": "execute_result"
    }
   ],
   "source": [
    "max_acc"
   ]
  },
  {
   "cell_type": "code",
   "execution_count": 62,
   "metadata": {},
   "outputs": [
    {
     "data": {
      "text/plain": [
       "0.8160637318181818"
      ]
     },
     "execution_count": 62,
     "metadata": {},
     "output_type": "execute_result"
    }
   ],
   "source": [
    "p_target"
   ]
  },
  {
   "cell_type": "code",
   "execution_count": 63,
   "metadata": {},
   "outputs": [],
   "source": [
    "def target(x0):\n",
    "    return np.abs(loglinear(x0, *params_loglinear) - p_target)"
   ]
  },
  {
   "cell_type": "code",
   "execution_count": 64,
   "metadata": {},
   "outputs": [
    {
     "data": {
      "text/plain": [
       "0.036643838674820906"
      ]
     },
     "execution_count": 64,
     "metadata": {},
     "output_type": "execute_result"
    }
   ],
   "source": [
    "target(10)"
   ]
  },
  {
   "cell_type": "code",
   "execution_count": 65,
   "metadata": {},
   "outputs": [
    {
     "name": "stdout",
     "output_type": "stream",
     "text": [
      "Optimization terminated successfully.\n",
      "         Current function value: 0.000000\n",
      "         Iterations: 22\n",
      "         Function evaluations: 44\n"
     ]
    }
   ],
   "source": [
    "x_target = opt.fmin(target, 10)"
   ]
  },
  {
   "cell_type": "code",
   "execution_count": 66,
   "metadata": {},
   "outputs": [
    {
     "data": {
      "text/plain": [
       "array([27.18035889])"
      ]
     },
     "execution_count": 66,
     "metadata": {},
     "output_type": "execute_result"
    }
   ],
   "source": [
    "x_target"
   ]
  },
  {
   "cell_type": "code",
   "execution_count": 67,
   "metadata": {},
   "outputs": [],
   "source": [
    "import palettable"
   ]
  },
  {
   "cell_type": "code",
   "execution_count": 68,
   "metadata": {},
   "outputs": [],
   "source": [
    "palette = np.array(palettable.wesanderson.Zissou_5.colors)/255"
   ]
  },
  {
   "cell_type": "code",
   "execution_count": 69,
   "metadata": {},
   "outputs": [],
   "source": [
    "rmse_loglinear = np.sqrt(np.mean(loglinear(df['proportion'], *params_loglinear) - df['valid'] ** 2))\n",
    "rmse_logistic = np.sqrt(np.mean(logistic(df['proportion'], *params_logistic) - df['valid'] ** 2))"
   ]
  },
  {
   "cell_type": "code",
   "execution_count": 70,
   "metadata": {},
   "outputs": [
    {
     "data": {
      "text/plain": [
       "(0.39480100621948877, 0.3913399465254929)"
      ]
     },
     "execution_count": 70,
     "metadata": {},
     "output_type": "execute_result"
    }
   ],
   "source": [
    "rmse_logistic, rmse_loglinear"
   ]
  },
  {
   "cell_type": "code",
   "execution_count": 83,
   "metadata": {
    "scrolled": false
   },
   "outputs": [
    {
     "data": {
      "image/png": "[encoded data removed]",
      "text/plain": [
       "<matplotlib.figure.Figure at 0x11279d588>"
      ]
     },
     "metadata": {},
     "output_type": "display_data"
    }
   ],
   "source": [
    "font = {'size': 16}\n",
    "matplotlib.rc('font', **font)\n",
    "\n",
    "fig, ax = plt.subplots()\n",
    "ax.plot(df['proportion'], df['valid'], 'o', alpha=0.55, color=palette[0])\n",
    "ax.plot(np.linspace(0, 110, 1000), loglinear(np.linspace(1, 110, 1000), *params_loglinear), color=palette[2])\n",
    "#ax.plot(np.linspace(3.7, 100, 1000), logistic(np.linspace(3.7, 100, 1000), *params_logistic), color=palette[4])\n",
    "ax.errorbar(df_means.index, df_means['valid'], yerr=df_stds['valid'], linestyle=\"None\", marker=\"o\", color=palette[1])\n",
    "ax.semilogx(basex=2)\n",
    "ax.set_xticks([2, 4, 8, 16, 32, 64, 100])\n",
    "ax.set_xticklabels([2, 4, 8, 16, 32, 64, 100])\n",
    "ax.minorticks_off()\n",
    "ax.grid(\"on\")\n",
    "ax.set_ylim([0.5, 0.9])\n",
    "ax.set_xlim([2, 104])\n",
    "ax.plot([x_target, x_target], [0.5, p_target], 'k--', linewidth=0.5)\n",
    "ax.plot([0, x_target], [p_target, p_target], 'k--', linewidth=0.5)\n",
    "#ax.set_xticks([20.84], minor = True)\n",
    "ax.set_yticks([p_target], minor=True)\n",
    "ax.text(17.5, 0.52, \"27.2\")\n",
    "ax.text(2.8, 0.82, \"0.82\")\n",
    "#ax.set_xticklabels([20.84], minor=True)\n",
    "#ax.set_yticklabels([\"%2.2f\"%p_target], minor=True)\n",
    "ax.set_ylabel(\"Test-set accuracy (proportion correct)\")\n",
    "ax.set_xlabel(\"Sub-set proportion (%)\")\n",
    "fig.set_size_inches([8, 8])\n"
   ]
  },
  {
   "cell_type": "code",
   "execution_count": 30,
   "metadata": {},
   "outputs": [],
   "source": [
    "cifar_subsample = np.array([[0.1004, 0.2204, 0.1344, 0.2954, 0.3978, 0.505, 0.6452, 0.7278],\n",
    "                            [0.128, 0.1616, 0.1936, 0.2574, 0.3714, 0.3738, 0.5708, 0.7348],\n",
    "                            [0.104, 0.2186, 0.2102, 0.3484, 0.3416, 0.3038, 0.527, 0.66],\n",
    "                            [0.0974, 0.1874, 0.1646, 0.1866, 0.3068, 0.3154, 0.5074, 0.5946],\n",
    "                            [0.1468, 0.099, 0.1316, 0.1934, 0.2356, 0.2762, 0.345, 0.4644],\n",
    "                            [0.1112, 0.1246, 0.1046, 0.1302, 0.1092, 0.1478, 0.191, 0.188],\n",
    "                            [0.0942, 0.0798, 0.0942, 0.101, 0.0948, 0.1046, 0.1084, 0.104]])"
   ]
  },
  {
   "cell_type": "code",
   "execution_count": 31,
   "metadata": {},
   "outputs": [],
   "source": [
    "data_proportion = [1, 2, 4, 8, 16, 32, 64, 100]"
   ]
  },
  {
   "cell_type": "code",
   "execution_count": 32,
   "metadata": {},
   "outputs": [],
   "source": [
    "from itertools import cycle\n",
    "palette_cyc = cycle(palette)"
   ]
  },
  {
   "cell_type": "code",
   "execution_count": 33,
   "metadata": {},
   "outputs": [
    {
     "data": {
      "text/plain": [
       "<itertools.cycle at 0x110da9a08>"
      ]
     },
     "execution_count": 33,
     "metadata": {},
     "output_type": "execute_result"
    }
   ],
   "source": [
    "palette_cyc"
   ]
  },
  {
   "cell_type": "code",
   "execution_count": 84,
   "metadata": {},
   "outputs": [
    {
     "name": "stdout",
     "output_type": "stream",
     "text": [
      "Optimization terminated successfully.\n",
      "         Current function value: 0.000000\n",
      "         Iterations: 30\n",
      "         Function evaluations: 60\n",
      "[272.87139893]\n",
      "Optimization terminated successfully.\n",
      "         Current function value: 0.000000\n",
      "         Iterations: 32\n",
      "         Function evaluations: 64\n",
      "[512.72888184]\n",
      "Optimization terminated successfully.\n",
      "         Current function value: 0.000000\n",
      "         Iterations: 35\n",
      "         Function evaluations: 70\n",
      "[1306.18304443]\n",
      "Optimization terminated successfully.\n",
      "         Current function value: 0.000000\n",
      "         Iterations: 36\n",
      "         Function evaluations: 72\n",
      "[2113.13867188]\n",
      "Optimization terminated successfully.\n",
      "         Current function value: 0.000000\n",
      "         Iterations: 45\n",
      "         Function evaluations: 90\n",
      "[51296.83428955]\n",
      "Warning: Maximum number of function evaluations has been exceeded.\n",
      "[1.53590778e+18]\n",
      "Warning: Maximum number of function evaluations has been exceeded.\n",
      "[6.338253e+29]\n"
     ]
    },
    {
     "data": {
      "image/png": "[encoded data removed]",
      "text/plain": [
       "<matplotlib.figure.Figure at 0x1516f50630>"
      ]
     },
     "metadata": {},
     "output_type": "display_data"
    }
   ],
   "source": [
    "fig, ax = plt.subplots()\n",
    "for ii, this in enumerate(cifar_subsample):\n",
    "    color = next(palette_cyc)\n",
    "    params_loglinear, cov_loglinear = opt.curve_fit(loglinear, data_proportion,  this, p0=[1, 1])\n",
    "    def target(x0):\n",
    "        return np.abs(loglinear(x0, *params_loglinear) - p_target)\n",
    "    p_target =  max_acc * 0.95\n",
    "    x_target = opt.fmin(target, 10)\n",
    "    print(x_target)\n",
    "    font = {'size': 16}\n",
    "    matplotlib.rc('font', **font)\n",
    "\n",
    "    ax.plot(data_proportion, this, 'o', alpha=0.55, color=color)\n",
    "    ax.plot(np.linspace(0, 110, 1000), loglinear(np.linspace(1, 110, 1000), *params_loglinear), color=color)\n",
    "    ax.semilogx(2)\n",
    "    ax.set_xticks(data_proportion)\n",
    "    ax.set_xticklabels(data_proportion)\n",
    "    ax.minorticks_off()\n",
    "    ax.grid(\"on\")\n",
    "    ax.set_ylim([0, 0.9])\n",
    "    ax.set_xlim([0.5, 104])\n",
    "    ax.set_ylabel(\"Test-set accuracy (proportion correct)\")\n",
    "    ax.set_xlabel(\"Sub-set proportion (%)\")\n",
    "    fig.set_size_inches([8, 8])\n"
   ]
  },
  {
   "cell_type": "code",
   "execution_count": null,
   "metadata": {},
   "outputs": [],
   "source": [
    "learn1 = pd.read_csv('./learn.1.tsv', delimiter='\\t')"
   ]
  },
  {
   "cell_type": "code",
   "execution_count": null,
   "metadata": {},
   "outputs": [],
   "source": [
    "learn1[\"proportion\"] = round(learn1[\"subset\"] / np.max(learn1[\"subset\"]) * 100).astype(int)"
   ]
  },
  {
   "cell_type": "code",
   "execution_count": null,
   "metadata": {},
   "outputs": [],
   "source": [
    "learn1.head()"
   ]
  },
  {
   "cell_type": "code",
   "execution_count": null,
   "metadata": {},
   "outputs": [],
   "source": [
    "gb_prop = learn1.groupby(\"proportion\")"
   ]
  },
  {
   "cell_type": "code",
   "execution_count": null,
   "metadata": {},
   "outputs": [],
   "source": [
    "learn1.proportion.unique()"
   ]
  },
  {
   "cell_type": "code",
   "execution_count": null,
   "metadata": {},
   "outputs": [],
   "source": [
    "font = {'size': 14}\n",
    "matplotlib.rc('font', **font)\n",
    "\n",
    "fig, ax = plt.subplots(6, 1)\n",
    "ax = ax.ravel()\n",
    "\n",
    "for ii, prop in enumerate([4, 8, 16, 32, 64, 100]):\n",
    "    a = ax[ii]\n",
    "    gb_id = learn1.iloc[gb_prop.groups[prop]].groupby(\"expid\")\n",
    "    for k, exp in gb_id:\n",
    "        a.plot(exp['learningiter'], exp['acc'], color=palette[0], alpha=0.3)\n",
    "        a.plot(exp['learningiter'][np.argmax(exp['acc'])], np.max(exp['acc']), 'o', color=palette[1], alpha=0.3)\n",
    "    a.plot(exp['learningiter'], \n",
    "                 learn1.iloc[gb_prop.groups[prop]].groupby(\"learningiter\").mean()['acc'],\n",
    "                 color=palette[1])\n",
    "    a.set_ylim([0.3, 1.0])\n",
    "    a.set_xlim([-1000, 76000])\n",
    "    a.text(62000, 0.35, prop)\n",
    "    a.grid(\"on\")\n",
    "    a.set_yticklabels('')\n",
    "    a.set_xticks([25000, 50000])\n",
    "    a.set_xticklabels([])\n",
    "    a.set_yticks([0.5, 1])\n",
    "    a.set_yticklabels(a.get_yticks())\n",
    "\n",
    "ax[3].text(-12000, 1.5, 'Validation accuracy', rotation=90)\n",
    "#ax[3].text(set_ylabel()\n",
    "\n",
    "ax[-1].set_xlabel(\"Iterations (k)\")\n",
    "ax[-1].set_xticklabels([\"25\", \"50\"])\n",
    "fig.set_size_inches([5, 12])\n",
    "plt.tight_layout()\n",
    "fig.savefig('./learning.png')\n"
   ]
  },
  {
   "cell_type": "code",
   "execution_count": null,
   "metadata": {},
   "outputs": [],
   "source": [
    "palette = np.concatenate([palette, [(np.array(palettable.wesanderson.Chevalier_4.colors)/255)[1]]])"
   ]
  },
  {
   "cell_type": "code",
   "execution_count": null,
   "metadata": {},
   "outputs": [],
   "source": [
    "palette"
   ]
  },
  {
   "cell_type": "code",
   "execution_count": null,
   "metadata": {},
   "outputs": [],
   "source": [
    "font = {'size': 14}\n",
    "matplotlib.rc('font', **font)\n",
    "\n",
    "fig, ax = plt.subplots(1)\n",
    "ax.plot(df['proportion'], df['valid'], 'o', alpha=0.55, color=palette[0])\n",
    "ax.plot(np.linspace(0.1, 110, 1000), loglinear(np.linspace(0.1, 110, 1000), *params_loglinear), color=palette[2])\n",
    "ax.errorbar(df_means.index, df_means['valid'], yerr=df_stds['valid'], linestyle=\"None\", marker=\"o\", color=palette[1])\n",
    "ax.semilogx()\n",
    "ax.set_xticks(df['proportion'].unique())\n",
    "ax.set_xticklabels(df['proportion'].unique())\n",
    "ax.minorticks_off()\n",
    "ax.grid(\"on\")\n",
    "ax.set_ylim([0.5, 0.9])\n",
    "ax.set_xlim([3, 120])\n",
    "ax.plot([x_target, x_target], [0.5, p_target], 'k--')\n",
    "ax.plot([3, x_target], [p_target, p_target], 'k--')\n",
    "ax.set_xticks([27.2], minor = True)\n",
    "ax.set_yticks([p_target], minor=True)\n",
    "ax.text(17.5, 0.505, \"27.2\")\n",
    "ax.text(3.2, 0.82, \"0.82\")\n",
    "#ax.set_xticklabels([20.84], minor=True)\n",
    "#ax.set_yticklabels([\"%2.2f\"%p_target], minor=True)\n",
    "ax.set_ylabel(\"Test-set accuracy (proportion correct)\")\n",
    "ax.set_xlabel(\"Subset proportion (%)\")\n",
    "fig.set_size_inches([6, 6])\n",
    "plt.tight_layout()\n",
    "fig.savefig('./test.png')\n",
    "fig, ax = plt.subplots(1)\n",
    "\n",
    "i = 0\n",
    "gb_prop = df.groupby([\"proportion\"])\n",
    "for k, g in gb_prop:\n",
    "    ax.scatter(g['maxacc'], g['valid'], color=palette[i], label=k, alpha=0.5)\n",
    "    ax.legend(title=\"Subset\")\n",
    "    ax.errorbar(np.mean(g['maxacc']), np.mean(g['valid']), \n",
    "                yerr=np.std(g['valid']), xerr=np.std(g['maxacc']), color=palette[i], alpha=1, marker='o')\n",
    "    i += 1\n",
    "ax.grid(\"on\")\n",
    "ax.plot([0.5, 1.0], [0.5, 1.0], 'k--')\n",
    "ax.set_ylim([0.5, 0.9])\n",
    "ax.set_yticklabels([])\n",
    "ax.set_xlim([0.5, 1])\n",
    "ax.set_ylabel(\"Test-set accuracy (proportion correct)\")\n",
    "ax.set_xlabel(\"Validation accuracy (proportion correct)\")\n",
    "fig.set_size_inches([6, 6])\n",
    "plt.tight_layout()\n",
    "fig.savefig('./diff.png')"
   ]
  },
  {
   "cell_type": "code",
   "execution_count": null,
   "metadata": {},
   "outputs": [],
   "source": [
    "learn2 = pd.read_csv('./learn.2.tsv', delimiter='\\t')"
   ]
  },
  {
   "cell_type": "code",
   "execution_count": null,
   "metadata": {},
   "outputs": [],
   "source": [
    "font = {'size': 14}\n",
    "matplotlib.rc('font', **font)\n",
    "\n",
    "gb_prop = learn1.groupby(\"proportion\")\n",
    "fig, ax = plt.subplots(1, 3)\n",
    "ax = ax.ravel()\n",
    "\n",
    "kkk = [learn1.iloc[gb_prop.groups[4]], learn2]\n",
    "for ii, gb_id in enumerate([learn1.iloc[gb_prop.groups[4]].groupby(\"expid\"), \n",
    "                            learn2.groupby(\"expid\")]):\n",
    "    a = ax[ii]\n",
    "    for k, exp in gb_id:\n",
    "        a.plot(exp['learningiter'], exp['acc'], color=palette[0], alpha=0.3)\n",
    "        a.plot(exp['learningiter'][np.argmax(exp['acc'])], np.max(exp['acc']), 'o', color=palette[1], alpha=0.3)\n",
    "    a.plot(exp['learningiter'], \n",
    "           kkk[ii].groupby(\"learningiter\").mean()['acc'],\n",
    "           color=palette[1])\n",
    "    a.set_ylim([0.3, 1.0])\n",
    "    a.set_xlim([-1000, 76000])\n",
    "    a.grid(\"on\")\n",
    "    a.set_yticklabels('')\n",
    "    a.set_xlabel(\"Iterations (k)\")\n",
    "    a.set_xticks([25000, 50000])\n",
    "    a.set_xticklabels([\"25\", \"50\"])\n",
    "\n",
    "    \n",
    "ax[0].set_title(\"Random subsets\")\n",
    "ax[1].set_title(\"Fixed subsets\")\n",
    "\n",
    "ax[0].set_ylabel('Validation\\naccuracy')\n",
    "ax[0].set_yticklabels(ax[0].get_yticks())\n",
    "fig.set_size_inches([10, 4])\n",
    "ax[2].errorbar(1, np.mean(learn1.iloc[gb_prop.groups[4]].groupby(\"expid\").max()['acc']), \n",
    "               yerr=np.std(learn1.iloc[gb_prop.groups[4]].groupby(\"expid\").max()['acc']),\n",
    "               marker='o', color=palette[1])\n",
    "\n",
    "ax[2].errorbar(2, np.mean(learn2.groupby(\"expid\").max()['acc']), \n",
    "               yerr=np.std(learn2.groupby(\"expid\").max()['acc']),\n",
    "               marker='o', color=palette[1])\n",
    "ax[2].set_ylim([0.3, 1.0])\n",
    "ax[2].set_xlim([0, 3.0])\n",
    "\n",
    "ax[2].set_yticklabels([])\n",
    "ax[2].set_xticks([1, 2])\n",
    "ax[2].set_xticklabels(['Random', 'Fixed'])\n",
    "ax[2].set_xlabel(\"Subsets\")\n",
    "for ii, letter in enumerate([\"A\", \"B\", \"C\"]):\n",
    "    ax[ii].text(0.93, 0.93, letter, \n",
    "            horizontalalignment='center',\n",
    "            verticalalignment='center',\n",
    "            transform=ax[ii].transAxes,\n",
    "            fontdict={'size': 16})\n",
    "\n",
    "plt.tight_layout()\n",
    "\n",
    "fig.set_size_inches([8, 6])\n",
    "fig.savefig('./fourpercent.png')"
   ]
  },
  {
   "cell_type": "code",
   "execution_count": null,
   "metadata": {},
   "outputs": [],
   "source": []
  }
 ],
 "metadata": {
  "anaconda-cloud": {},
  "kernelspec": {
   "display_name": "Python 3",
   "language": "python",
   "name": "python3"
  },
  "language_info": {
   "codemirror_mode": {
    "name": "ipython",
    "version": 3
   },
   "file_extension": ".py",
   "mimetype": "text/x-python",
   "name": "python",
   "nbconvert_exporter": "python",
   "pygments_lexer": "ipython3",
   "version": "3.5.4"
  }
 },
 "nbformat": 4,
 "nbformat_minor": 2
}
